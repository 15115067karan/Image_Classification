{
 "cells": [
  {
   "cell_type": "code",
   "execution_count": 1,
   "metadata": {},
   "outputs": [
    {
     "name": "stdout",
     "output_type": "stream",
     "text": [
      "C:\\Users\\karan\\Desktop\n"
     ]
    }
   ],
   "source": [
    "import os\n",
    "path=os.getcwd()\n",
    "print(path)\n",
    "from data_generator import data_generator"
   ]
  },
  {
   "cell_type": "code",
   "execution_count": 2,
   "metadata": {},
   "outputs": [
    {
     "name": "stderr",
     "output_type": "stream",
     "text": [
      "C:\\Users\\karan\\Anaconda3\\lib\\site-packages\\sklearn\\cross_validation.py:44: DeprecationWarning: This module was deprecated in version 0.18 in favor of the model_selection module into which all the refactored classes and functions are moved. Also note that the interface of the new CV iterators are different from that of this module. This module will be removed in 0.20.\n",
      "  \"This module will be removed in 0.20.\", DeprecationWarning)\n",
      "C:\\Users\\karan\\Anaconda3\\lib\\site-packages\\h5py\\__init__.py:34: FutureWarning: Conversion of the second argument of issubdtype from `float` to `np.floating` is deprecated. In future, it will be treated as `np.float64 == np.dtype(float).type`.\n",
      "  from ._conv import register_converters as _register_converters\n",
      "Using TensorFlow backend.\n",
      "C:\\Users\\karan\\Anaconda3\\lib\\site-packages\\sklearn\\preprocessing\\data.py:160: UserWarning: Numerical issues were encountered when centering the data and might not be solved. Dataset may contain too large values. You may need to prescale your features.\n",
      "  warnings.warn(\"Numerical issues were encountered \"\n",
      "C:\\Users\\karan\\Anaconda3\\lib\\site-packages\\sklearn\\preprocessing\\data.py:177: UserWarning: Numerical issues were encountered when scaling the data and might not be solved. The standard deviation of the data is probably very close to 0. \n",
      "  warnings.warn(\"Numerical issues were encountered \"\n",
      "C:\\Users\\karan\\Desktop\\data_generator.py:82: UserWarning: Update your `Conv2D` call to the Keras 2 API: `Conv2D(32, (3, 3), input_shape=(1, 128, 1..., padding=\"same\")`\n",
      "  model.add(Convolution2D(32, 3,3,border_mode='same',input_shape=input_shape))\n"
     ]
    },
    {
     "name": "stdout",
     "output_type": "stream",
     "text": [
      "(200, 1, 128, 128)\n"
     ]
    },
    {
     "name": "stderr",
     "output_type": "stream",
     "text": [
      "C:\\Users\\karan\\Desktop\\data_generator.py:84: UserWarning: Update your `Conv2D` call to the Keras 2 API: `Conv2D(32, (3, 3))`\n",
      "  model.add(Convolution2D(32, 3, 3))\n",
      "C:\\Users\\karan\\Desktop\\data_generator.py:89: UserWarning: Update your `Conv2D` call to the Keras 2 API: `Conv2D(64, (3, 3))`\n",
      "  model.add(Convolution2D(64, 3, 3))\n",
      "C:\\Users\\karan\\Desktop\\data_generator.py:91: UserWarning: Update your `Conv2D` call to the Keras 2 API: `Conv2D(64, (3, 3))`\n",
      "  model.add(Convolution2D(64, 3, 3))\n"
     ]
    },
    {
     "name": "stdout",
     "output_type": "stream",
     "text": [
      "_________________________________________________________________\n",
      "Layer (type)                 Output Shape              Param #   \n",
      "=================================================================\n",
      "conv2d_1 (Conv2D)            (None, 32, 128, 128)      320       \n",
      "_________________________________________________________________\n",
      "activation_1 (Activation)    (None, 32, 128, 128)      0         \n",
      "_________________________________________________________________\n",
      "conv2d_2 (Conv2D)            (None, 32, 126, 126)      9248      \n",
      "_________________________________________________________________\n",
      "activation_2 (Activation)    (None, 32, 126, 126)      0         \n",
      "_________________________________________________________________\n",
      "max_pooling2d_1 (MaxPooling2 (None, 32, 63, 63)        0         \n",
      "_________________________________________________________________\n",
      "dropout_1 (Dropout)          (None, 32, 63, 63)        0         \n",
      "_________________________________________________________________\n",
      "conv2d_3 (Conv2D)            (None, 64, 61, 61)        18496     \n",
      "_________________________________________________________________\n",
      "activation_3 (Activation)    (None, 64, 61, 61)        0         \n",
      "_________________________________________________________________\n",
      "conv2d_4 (Conv2D)            (None, 64, 59, 59)        36928     \n",
      "_________________________________________________________________\n",
      "activation_4 (Activation)    (None, 64, 59, 59)        0         \n",
      "_________________________________________________________________\n",
      "max_pooling2d_2 (MaxPooling2 (None, 64, 29, 29)        0         \n",
      "_________________________________________________________________\n",
      "dropout_2 (Dropout)          (None, 64, 29, 29)        0         \n",
      "_________________________________________________________________\n"
     ]
    },
    {
     "name": "stderr",
     "output_type": "stream",
     "text": [
      "C:\\Users\\karan\\Anaconda3\\lib\\site-packages\\keras\\models.py:942: UserWarning: The `nb_epoch` argument in `fit` has been renamed `epochs`.\n",
      "  warnings.warn('The `nb_epoch` argument in `fit` '\n"
     ]
    },
    {
     "name": "stdout",
     "output_type": "stream",
     "text": [
      "flatten_1 (Flatten)          (None, 53824)             0         \n",
      "_________________________________________________________________\n",
      "dense_1 (Dense)              (None, 64)                3444800   \n",
      "_________________________________________________________________\n",
      "activation_5 (Activation)    (None, 64)                0         \n",
      "_________________________________________________________________\n",
      "dropout_3 (Dropout)          (None, 64)                0         \n",
      "_________________________________________________________________\n",
      "dense_2 (Dense)              (None, 2)                 130       \n",
      "_________________________________________________________________\n",
      "activation_6 (Activation)    (None, 2)                 0         \n",
      "=================================================================\n",
      "Total params: 3,509,922\n",
      "Trainable params: 3,509,922\n",
      "Non-trainable params: 0\n",
      "_________________________________________________________________\n",
      "Train on 160 samples, validate on 40 samples\n",
      "Epoch 1/10\n",
      "160/160 [==============================] - 71s 441ms/step - loss: 0.9228 - acc: 0.5438 - val_loss: 0.6941 - val_acc: 0.4000\n",
      "Epoch 2/10\n",
      "160/160 [==============================] - 62s 387ms/step - loss: 0.7040 - acc: 0.4437 - val_loss: 0.6921 - val_acc: 0.6750\n",
      "Epoch 3/10\n",
      "160/160 [==============================] - 61s 384ms/step - loss: 0.6930 - acc: 0.4562 - val_loss: 0.6948 - val_acc: 0.3500\n",
      "Epoch 4/10\n",
      "160/160 [==============================] - 70s 435ms/step - loss: 0.6924 - acc: 0.5375 - val_loss: 0.7048 - val_acc: 0.3500\n",
      "Epoch 5/10\n",
      "160/160 [==============================] - 68s 427ms/step - loss: 0.6891 - acc: 0.5375 - val_loss: 0.7133 - val_acc: 0.3500\n",
      "Epoch 6/10\n",
      "160/160 [==============================] - 69s 433ms/step - loss: 0.6871 - acc: 0.5375 - val_loss: 0.7184 - val_acc: 0.3500\n",
      "Epoch 7/10\n",
      "160/160 [==============================] - 64s 400ms/step - loss: 0.6860 - acc: 0.5375 - val_loss: 0.7111 - val_acc: 0.3500\n",
      "Epoch 8/10\n",
      "160/160 [==============================] - 83s 516ms/step - loss: 0.6718 - acc: 0.5625 - val_loss: 0.7122 - val_acc: 0.4500\n",
      "Epoch 9/10\n",
      "160/160 [==============================] - 70s 437ms/step - loss: 0.6777 - acc: 0.6188 - val_loss: 0.6946 - val_acc: 0.4500\n",
      "Epoch 10/10\n",
      "160/160 [==============================] - 74s 463ms/step - loss: 0.6613 - acc: 0.6625 - val_loss: 0.7019 - val_acc: 0.4500\n",
      "Test Loss: 0.7018543839454651\n",
      "Test accuracy: 0.45\n",
      "Y_pred\n",
      "\n",
      "[[0.45847127 0.5415287 ]\n",
      " [0.51353276 0.48646727]\n",
      " [0.43339592 0.566604  ]\n",
      " [0.55234736 0.44765264]\n",
      " [0.5720515  0.4279485 ]\n",
      " [0.47978637 0.5202136 ]\n",
      " [0.49085957 0.50914043]\n",
      " [0.4891449  0.5108551 ]\n",
      " [0.47962838 0.5203717 ]\n",
      " [0.49175504 0.50824493]\n",
      " [0.53219575 0.46780425]\n",
      " [0.4908999  0.5091001 ]\n",
      " [0.47923657 0.5207634 ]\n",
      " [0.5255262  0.47447374]\n",
      " [0.4644589  0.5355411 ]\n",
      " [0.4540887  0.5459114 ]\n",
      " [0.49172664 0.50827336]\n",
      " [0.49340722 0.5065927 ]\n",
      " [0.53540486 0.46459514]\n",
      " [0.58191216 0.4180878 ]\n",
      " [0.57072115 0.42927882]\n",
      " [0.5545556  0.44544443]\n",
      " [0.49447927 0.50552064]\n",
      " [0.48838896 0.511611  ]\n",
      " [0.45375946 0.54624057]\n",
      " [0.4742613  0.5257387 ]\n",
      " [0.55939716 0.44060284]\n",
      " [0.47988215 0.5201179 ]\n",
      " [0.50025904 0.4997409 ]\n",
      " [0.53204006 0.46795994]\n",
      " [0.51199704 0.48800293]\n",
      " [0.4966529  0.50334704]\n",
      " [0.4917454  0.5082546 ]\n",
      " [0.5358074  0.46419263]\n",
      " [0.43953124 0.5604688 ]\n",
      " [0.41526824 0.58473176]\n",
      " [0.4797982  0.5202018 ]\n",
      " [0.49997145 0.5000286 ]\n",
      " [0.5445045  0.45549545]\n",
      " [0.5242731  0.47572684]]\n",
      "[1 0 1 0 0 1 1 1 1 1 0 1 1 0 1 1 1 1 0 0 0 0 1 1 1 1 0 1 0 0 0 1 1 0 1 1 1\n",
      " 1 0 0]\n",
      "[1 0 1 0 0 1 1 1 1 1 0 1 1 0 1 1 1 1 0 0 0 0 1 1 1 1 0 1 0 0 0 1 1 0 1 1 1\n",
      " 1 0 0]\n",
      "\n",
      "\n",
      "Confusion Matrix\n",
      "\n",
      "[[ 4 10]\n",
      " [12 14]]\n"
     ]
    }
   ],
   "source": [
    "data_generator(path+'\\data')"
   ]
  },
  {
   "cell_type": "code",
   "execution_count": null,
   "metadata": {
    "collapsed": true
   },
   "outputs": [],
   "source": []
  }
 ],
 "metadata": {
  "kernelspec": {
   "display_name": "Python 3",
   "language": "python",
   "name": "python3"
  },
  "language_info": {
   "codemirror_mode": {
    "name": "ipython",
    "version": 3
   },
   "file_extension": ".py",
   "mimetype": "text/x-python",
   "name": "python",
   "nbconvert_exporter": "python",
   "pygments_lexer": "ipython3",
   "version": "3.6.1"
  }
 },
 "nbformat": 4,
 "nbformat_minor": 2
}
